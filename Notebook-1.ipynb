{
    "metadata": {
        "kernelspec": {
            "name": "python3",
            "display_name": "Python 3 (ipykernel)",
            "language": "python"
        },
        "language_info": {
            "name": "python",
            "version": "3.9.12",
            "mimetype": "text/x-python",
            "codemirror_mode": {
                "name": "ipython",
                "version": 3
            },
            "pygments_lexer": "ipython3",
            "nbconvert_exporter": "python",
            "file_extension": ".py"
        }
    },
    "nbformat_minor": 2,
    "nbformat": 4,
    "cells": [
        {
            "cell_type": "markdown",
            "source": [
                "Below establishes a connection to cloudbi and gets billing notes from Shopify dimension table."
            ],
            "metadata": {
                "azdata_cell_guid": "201f4c5d-8d1d-459c-a9fb-b6564c6adb20"
            },
            "attachments": {}
        },
        {
            "cell_type": "code",
            "source": [
                "print('testing')"
            ],
            "metadata": {
                "language": "python",
                "azdata_cell_guid": "70dcb457-2f53-4bf1-980a-c192b52963fb"
            },
            "outputs": [
                {
                    "output_type": "stream",
                    "name": "stdout",
                    "text": "testing\n"
                }
            ],
            "execution_count": 1
        },
        {
            "cell_type": "code",
            "source": [
                "import pyodbc\r\n",
                "import pandas as pd\r\n",
                "server = 'pawsup-cloudbi'\r\n",
                "database = 'edw'\r\n",
                "username = 'ssrs_datawriter'\r\n",
                "password = 'M79W6lLAm2BX2^dev'\r\n",
                "cnxn = pyodbc.connect('DRIVER={SQL Server};SERVER='+server+';DATABASE='+database+';UID='+username+';PWD='+password)\r\n",
                "cursor = cnxn.cursor()\r\n",
                "top_var = 100\r\n",
                "wildcard = '%(%'\r\n",
                "unknown = '%Unknown%'\r\n",
                "result = cursor.execute('SELECT TOP 10 * FROM dbo.dimShopify WHERE billing_notes LIKE ? AND billing_notes NOT LIKE ?', wildcard, unknown)  \r\n",
                "\r\n",
                "for row in result:\r\n",
                "    bill_notes = f'{row.billing_notes}'\r\n",
                "    print(bill_notes)\r\n",
                ""
            ],
            "metadata": {
                "azdata_cell_guid": "1833027a-f35c-41ba-8ec8-6345ded67632",
                "language": "python",
                "tags": []
            },
            "outputs": [],
            "execution_count": null
        },
        {
            "cell_type": "markdown",
            "source": [
                "Python functions to clean up the billing notes and extract name information."
            ],
            "metadata": {
                "language": "python",
                "azdata_cell_guid": "e80b6d85-3d97-47b5-9dc7-3ac2c195a8f7"
            },
            "attachments": {}
        },
        {
            "cell_type": "code",
            "source": [
                "def getLastName(item):\n",
                "    comma_location = item.find(',') #use to get substring\n",
                "    last_name = item[:comma_location]\n",
                "    return last_name\n",
                "\n",
                "def getFirstName(item):\n",
                "    comma_location = item.find(',')\n",
                "    parentheses = item.find(' (')\n",
                "    first_name = item[(comma_location + 2):parentheses]\n",
                "    space_location = first_name.find(' ')\n",
                "    return first_name\n",
                "    \n",
                "for row in result:\n",
                "    bill_notes = f'{row.billing_notes}'\n",
                "    print(bill_notes)\n",
                "    first_name = getFirstName(f'{row.billing_notes}')\n",
                "    print(first_name)\n",
                "    #cursor.execute('UPDATE dbo.dimShopify SET first_name = (?) WHERE billing_notes = ?', first_name, bill_notes)\n",
                "    last_name = getLastName(f'{row.billing_notes}')\n",
                "    print(last_name)\n",
                "    #cursor.execute('UPDATE dbo.dimShopify SET last_name = (?) WHERE billing_notes = ?', last_name, bill_notes)\n",
                "\n",
                "cursor.close()"
            ],
            "metadata": {
                "azdata_cell_guid": "c53767d8-bc55-47e2-8e15-37428347978a",
                "language": "python"
            },
            "outputs": [],
            "execution_count": null
        }
    ]
}